{
 "cells": [
  {
   "cell_type": "markdown",
   "id": "db11406b",
   "metadata": {},
   "source": [
    "# Ex_3dvar\n",
    "\n",
    "This is an example of data assimilation on the ice thickness with known kinematics.\n",
    "The example focuses on mean estimation with the 3dvar method."
   ]
  },
  {
   "cell_type": "markdown",
   "id": "b8631a7e",
   "metadata": {},
   "source": [
    "### Import necessary packages"
   ]
  },
  {
   "cell_type": "code",
   "execution_count": 3,
   "id": "001d9043",
   "metadata": {},
   "outputs": [],
   "source": [
    "import numpy as np\n",
    "import matplotlib.pyplot as plt\n",
    "from WENO import *\n",
    "from transport_onestep import *"
   ]
  },
  {
   "cell_type": "markdown",
   "id": "bc2e1e81",
   "metadata": {},
   "source": [
    "### Import synthetic ground truth\n",
    "\n",
    "For simulation purpose, we assume that the ground truth is known. \n",
    "\n",
    "The ground truth contains information on velocity and ice thickness. They are obtained by numerically solving the viscous-plastic (VP) sea ice model.\n",
    "\n",
    "The VP sea ice model is solved using WENO spatial discretization scheme and TVD RK3 time integration technique with spatial resolution $dx=10$ km and time step $dt=1$ s. The simulation domain is $[0,2000]$ km, and the total simulation time is 1 hour. The initial conditions are\n",
    "\n",
    "\\begin{equation*}\n",
    "\\begin{gathered}\n",
    "u(x,0)=0 \\text{ m/s} \\quad \\text{on} \\quad  [0, 2000] \\text{ km},\\\\\n",
    "h(x,0)= \\begin{cases}\n",
    "0.01 \\text{ m} \\quad \\text{on} \\quad [400, 1600] \\text{ km},\\\\\n",
    "2 \\text{ m} \\quad \\text{on} \\quad [0,400] \\cup [1600, 2000] \\text{ km},\n",
    "\\end{cases}\\\\\n",
    "A(x,0)= \\begin{cases}\n",
    "0 \\quad \\text{on} \\quad [400, 1600] \\text{ km},\\\\\n",
    "0.8 \\quad \\text{on} \\quad [0,400] \\cup [1600, 2000] \\text{ km}.\n",
    "\\end{cases}\n",
    "\\end{gathered}\n",
    "\\end{equation*}\n",
    "\n",
    "Uniform constant wind forcing $u_a=10$ m/s is imposed. For simplicity, periodic boundary conditions are used when solving the model.\n",
    "\n",
    "The imported velocity and ice thickness are point values defined at the center of grid cells at every second during the simulation period, and are denoted by $u_{true}$ and $h_{true}$ respectively."
   ]
  },
  {
   "cell_type": "code",
   "execution_count": 4,
   "id": "2b44ecb1",
   "metadata": {},
   "outputs": [],
   "source": [
    "# import true solution from matlab\n",
    "import scipy.io\n",
    "mat = scipy.io.loadmat('true.mat')\n",
    "\n",
    "u_true = mat['u_true']\n",
    "h_true = mat['h_true']\n",
    "\n",
    "[Nx,Nt]=np.shape(u_true)\n",
    "\n",
    "# spatial resolution\n",
    "dx=1e4\n",
    "# time step\n",
    "dt=1"
   ]
  },
  {
   "cell_type": "markdown",
   "id": "7f021829",
   "metadata": {},
   "source": [
    "### Function creating observation data\n",
    "\n",
    "We assume that we are able to obtain noisy observations of ice thickness, with observation operator $H$. That is, at each discrete time instance, the observation data is constructed by\n",
    "\n",
    "$$ y_{j+1}=H(h_{j+1})+\\eta_{j+1}$$\n",
    "\n",
    "where $\\{\\eta_j\\}$ is an i.i.d. sequence with $\\eta_1\\sim N(0,\\Gamma)$ and $\\Gamma=\\gamma^2 I$."
   ]
  },
  {
   "cell_type": "code",
   "execution_count": 13,
   "id": "05e403c2",
   "metadata": {},
   "outputs": [],
   "source": [
    "# create observation data\n",
    "def _obs(H,h_true,gamma):\n",
    "    \"\"\"\n",
    "    Given signal vector, create observation data with additive noise.\n",
    "\n",
    "    Parameters\n",
    "    ----------\n",
    "    H: \n",
    "       observation operator\n",
    "    h_true: numpy.ndarray\n",
    "       the underlying signal vector\n",
    "    gamma: float\n",
    "       standard deviation of the observation noise\n",
    "       \n",
    "    Returns\n",
    "    -------\n",
    "    numpy.ndarray\n",
    "       observation data of same size as signal h_true\n",
    "    \"\"\"\n",
    "    np.random.seed(seed=10)\n",
    "    [Nx,]=np.shape(h_true)\n",
    "    myy = H@h_true + np.random.normal(0,gamma,[Nx,])\n",
    "    # cut-off negative values for ice thickness\n",
    "    myy[myy<0]=0 \n",
    "    return myy"
   ]
  },
  {
   "cell_type": "markdown",
   "id": "a76011f5",
   "metadata": {},
   "source": [
    "### 3DVAR method\n",
    "\n",
    "3DVAR method is a variational method which focus on generating a single point (mean estimation for example). In the linear case (linear observations $H(h)=H h$), it can be written as the following update formulae:\n",
    "\n",
    "\\begin{gather*}\n",
    "\\hat{m}_{j+1}=\\mathbb{\\Psi}(m_j),\\\\\n",
    "m_{j+1}=(I-KH)\\hat{m}_{j+1}+Ky_{j+1},\n",
    "\\end{gather*}\n",
    "\n",
    "where $K=\\hat{C}H^TS^{-1}$ and $S=H\\hat{C}H^T+\\Gamma$."
   ]
  },
  {
   "cell_type": "code",
   "execution_count": 14,
   "id": "fea61ba1",
   "metadata": {},
   "outputs": [],
   "source": [
    "# data assimilation -- 3dvar\n",
    "def _3dvar(mhat,y,K,H):\n",
    "    d = y-H.dot(mhat)\n",
    "    m = mhat + K.dot(d)\n",
    "    return m"
   ]
  },
  {
   "cell_type": "markdown",
   "id": "f474c110",
   "metadata": {},
   "source": [
    "### Problem set up\n",
    "\n",
    "We construct the initial mean by adding noise on the true signal\n",
    "\n",
    "$$ m_{0}=h_{0}+\\eta_{0}$$\n",
    "\n",
    "with $\\eta_0\\sim N(0,std_{init}^2 I)$."
   ]
  },
  {
   "cell_type": "code",
   "execution_count": 15,
   "id": "e6c92eef",
   "metadata": {},
   "outputs": [],
   "source": [
    "# create initial values for mean\n",
    "std_init=0.05 # noise standard deviation \n",
    "mymean = np.zeros([Nx,Nt]) # initialization\n",
    "np.random.seed(seed=1)\n",
    "h0=h_true[:,0]\n",
    "mymean[:,0]=h0+np.random.normal(0,std_init,[Nx,])\n",
    "\n",
    "# initialize observation data and prior mean\n",
    "myy = np.zeros([Nx,Nt])\n",
    "myprmean = np.zeros([Nx,Nt])\n",
    "myprmean[:,0]=mymean[:,0]"
   ]
  },
  {
   "cell_type": "code",
   "execution_count": 16,
   "id": "e46056cf",
   "metadata": {},
   "outputs": [],
   "source": [
    "# data assimilation parameter\n",
    "gamma=0.05 # observation noise standard deviation\n",
    "eta=10 # covariance parameter in 3dvar\n",
    "\n",
    "myI=np.eye(Nx) \n",
    "H=myI # observation operator\n",
    "Gamma=gamma**2*myI\n",
    "C=gamma**2/eta*myI # model covariance\n",
    "deno=(H@C@(H.T)+Gamma)\n",
    "K=(C@(H.T))@np.linalg.inv(deno) # Kalman gain"
   ]
  },
  {
   "cell_type": "code",
   "execution_count": 17,
   "id": "b8400c15",
   "metadata": {},
   "outputs": [],
   "source": [
    "# perform 3dvar\n",
    "from transport_onestep import _transport\n",
    "for j in range(Nt-1):\n",
    "    mhat = np.zeros([Nx,1])\n",
    "    mhat = _transport(u_true[:,j+1],mymean[:,j],dx,dt)\n",
    "    myy[:,j+1] = _obs(H,h_true[:,j+1],gamma)\n",
    "    mymean[:,j+1] = _3dvar(mhat,myy[:,j+1],K,H)\n",
    "    myprmean[:,j+1] = _transport(u_true[:,j+1],myprmean[:,j],dx,dt)\n",
    "    j = j+1"
   ]
  },
  {
   "cell_type": "code",
   "execution_count": 18,
   "id": "ffd908d5",
   "metadata": {},
   "outputs": [
    {
     "data": {
      "text/plain": [
       "[<matplotlib.lines.Line2D at 0x7ff17c032790>]"
      ]
     },
     "execution_count": 18,
     "metadata": {},
     "output_type": "execute_result"
    },
    {
     "data": {
      "image/png": "[encoded data removed]",
      "text/plain": [
       "<Figure size 432x288 with 1 Axes>"
      ]
     },
     "metadata": {
      "needs_background": "light"
     },
     "output_type": "display_data"
    }
   ],
   "source": [
    "# plot the solution\n",
    "plt.plot(mymean[:,Nt-1]) # posterior mean\n",
    "plt.plot(myprmean[:,Nt-1],'r') # prior mean\n",
    "plt.plot(myy[:,Nt-1],'k.',markersize=2) # observation data"
   ]
  },
  {
   "cell_type": "code",
   "execution_count": null,
   "id": "3df20388",
   "metadata": {},
   "outputs": [],
   "source": []
  },
  {
   "cell_type": "code",
   "execution_count": null,
   "id": "6329bc67",
   "metadata": {},
   "outputs": [],
   "source": []
  },
  {
   "cell_type": "code",
   "execution_count": null,
   "id": "e882bc74",
   "metadata": {},
   "outputs": [],
   "source": []
  },
  {
   "cell_type": "code",
   "execution_count": null,
   "id": "99490074",
   "metadata": {},
   "outputs": [],
   "source": []
  },
  {
   "cell_type": "code",
   "execution_count": null,
   "id": "7ef75ecc",
   "metadata": {},
   "outputs": [],
   "source": []
  }
 ],
 "metadata": {
  "kernelspec": {
   "display_name": "Python 3",
   "language": "python",
   "name": "python3"
  },
  "language_info": {
   "codemirror_mode": {
    "name": "ipython",
    "version": 3
   },
   "file_extension": ".py",
   "mimetype": "text/x-python",
   "name": "python",
   "nbconvert_exporter": "python",
   "pygments_lexer": "ipython3",
   "version": "3.8.8"
  }
 },
 "nbformat": 4,
 "nbformat_minor": 5
}
